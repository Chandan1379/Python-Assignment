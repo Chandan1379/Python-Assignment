{
 "cells": [
  {
   "cell_type": "markdown",
   "id": "8bf562b5",
   "metadata": {},
   "source": [
    "# Q(1). Explain with an example each when to use a for loop and a while loop."
   ]
  },
  {
   "cell_type": "markdown",
   "id": "20db12cc",
   "metadata": {},
   "source": [
    "Ans.:- For loop will loop all the elememts and then it will start taking out all the elements one by one."
   ]
  },
  {
   "cell_type": "markdown",
   "id": "95f8e897",
   "metadata": {},
   "source": [
    "- it is often used when we have a piece of code which we want to run \"n\" number of times."
   ]
  },
  {
   "cell_type": "markdown",
   "id": "b0875e00",
   "metadata": {},
   "source": [
    "# Example of for loop :"
   ]
  },
  {
   "cell_type": "code",
   "execution_count": 1,
   "id": "93282c0c",
   "metadata": {},
   "outputs": [],
   "source": [
    "l = [1,2,3,4,5,6,7,8]"
   ]
  },
  {
   "cell_type": "code",
   "execution_count": 2,
   "id": "65a2087f",
   "metadata": {},
   "outputs": [
    {
     "name": "stdout",
     "output_type": "stream",
     "text": [
      "1\n",
      "2\n",
      "3\n",
      "4\n",
      "5\n",
      "6\n",
      "7\n",
      "8\n"
     ]
    }
   ],
   "source": [
    "for i in l:\n",
    "    print(i)"
   ]
  },
  {
   "cell_type": "markdown",
   "id": "e5df1d68",
   "metadata": {},
   "source": [
    "- Here 'l' is our list. Loop will go to the list 'l' and it will take out first element which is at index '0'. Now it will keep it in temporary memory(i) here 'i' is temporary variable."
   ]
  },
  {
   "cell_type": "markdown",
   "id": "a4b86767",
   "metadata": {},
   "source": [
    "- Loop checks our iterable variable one by one till the last element and after that it gets out of the loop."
   ]
  },
  {
   "cell_type": "markdown",
   "id": "eb19ee49",
   "metadata": {},
   "source": [
    "# While Loop:"
   ]
  },
  {
   "cell_type": "markdown",
   "id": "e7fb483c",
   "metadata": {},
   "source": [
    "A While loop is used to check the condition. if the given condition is true, it will go inside while loop and excute the block of code."
   ]
  },
  {
   "cell_type": "markdown",
   "id": "7e358f63",
   "metadata": {},
   "source": [
    "- If our condition becomes false, then we will not be able to go inside while loop i.e, the loop will get terminated."
   ]
  },
  {
   "cell_type": "markdown",
   "id": "8da1e525",
   "metadata": {},
   "source": [
    "# Example of While Loop :"
   ]
  },
  {
   "cell_type": "code",
   "execution_count": 3,
   "id": "f3cc2497",
   "metadata": {},
   "outputs": [
    {
     "name": "stdout",
     "output_type": "stream",
     "text": [
      "1\n",
      "2\n",
      "3\n",
      "4\n",
      "5\n",
      "6\n",
      "7\n"
     ]
    }
   ],
   "source": [
    "i = 1\n",
    "while i <= 7:\n",
    "    print(i)\n",
    "    i = i + 1"
   ]
  },
  {
   "cell_type": "markdown",
   "id": "ded253fd",
   "metadata": {},
   "source": [
    "- The initial value of \"i\" is given as 1. First of all, It will check the condition \"i<=7\"."
   ]
  },
  {
   "cell_type": "markdown",
   "id": "98850adc",
   "metadata": {},
   "source": [
    "- Now, It will check is \"1<=10\" yes it's True. So, it will go inside body of while loop and print the value of \"i\" as 1."
   ]
  },
  {
   "cell_type": "markdown",
   "id": "45220728",
   "metadata": {},
   "source": [
    "- In next step, It will increment the value of \"i\" by 1. So, the value of \"i\" will become i = i + 1 = 1 + 1 = 2 i.e, i = 2."
   ]
  },
  {
   "cell_type": "markdown",
   "id": "2d764772",
   "metadata": {},
   "source": [
    "- Now it will again go to the starting of while loop and check the condition. It will keeep checking the condition until the condition becomes false. Once the condition becomes false it will come out of the loop means terminate the loop."
   ]
  },
  {
   "cell_type": "markdown",
   "id": "e07aebde",
   "metadata": {},
   "source": [
    "- It will keep excuting till the value of \"i\" is '7'. When value of \"i\" becomes 8 the condition gets false, then it will break whole while loop."
   ]
  },
  {
   "cell_type": "markdown",
   "id": "4b2969e2",
   "metadata": {},
   "source": [
    "# Q(2). Write a python program to print the sum and product of the first 10 natural numbers using for and while loop."
   ]
  },
  {
   "cell_type": "markdown",
   "id": "6345dcc1",
   "metadata": {},
   "source": [
    "Ans.:- Sum and Product of the first 10 natural numbers using for and while loop:"
   ]
  },
  {
   "cell_type": "markdown",
   "id": "ebeddbf7",
   "metadata": {},
   "source": [
    "# (1). Using For Loop :"
   ]
  },
  {
   "cell_type": "code",
   "execution_count": 4,
   "id": "72e21613",
   "metadata": {},
   "outputs": [
    {
     "name": "stdout",
     "output_type": "stream",
     "text": [
      "Sum of first 10 natural numbers: 55\n",
      "Product of 10 natural numbers: 3628800\n"
     ]
    }
   ],
   "source": [
    "# Here we are initializing variable\n",
    "sum_of_numbers = 0\n",
    "product_of_numbers = 1\n",
    "\n",
    "# Here we are calculating sum and product of natural numbers.\n",
    "for i in range(1, 11):\n",
    "    sum_of_numbers = sum_of_numbers + i\n",
    "    product_of_numbers = product_of_numbers *i\n",
    "    \n",
    "# Here we are printing sum and product of natural numbers.\n",
    "print(\"Sum of first 10 natural numbers:\", sum_of_numbers)\n",
    "print(\"Product of 10 natural numbers:\", product_of_numbers)"
   ]
  },
  {
   "cell_type": "markdown",
   "id": "179d0738",
   "metadata": {},
   "source": [
    "# (2). Using a While Loop :"
   ]
  },
  {
   "cell_type": "code",
   "execution_count": 5,
   "id": "72c33667",
   "metadata": {},
   "outputs": [
    {
     "name": "stdout",
     "output_type": "stream",
     "text": [
      "Sum of first 10 natural numbers: 55\n",
      "Product of 10 natural numbers: 3628800\n"
     ]
    }
   ],
   "source": [
    "# Here we are initializing variable\n",
    "a = 1\n",
    "sum_of_numbers = 0\n",
    "product_of_numbers = 1\n",
    "\n",
    "\n",
    "# Here we are calculating sum and product of natural numbers.\n",
    "while a <= 10:\n",
    "    sum_of_numbers = sum_of_numbers + a\n",
    "    product_of_numbers = product_of_numbers * a\n",
    "    a = a + 1\n",
    "\n",
    "# Here we are printing sum and product of natural numbers.\n",
    "print(\"Sum of first 10 natural numbers:\", sum_of_numbers)\n",
    "print(\"Product of 10 natural numbers:\", product_of_numbers)"
   ]
  },
  {
   "cell_type": "markdown",
   "id": "f7f2bb91",
   "metadata": {},
   "source": [
    "# Q(3). Create a python program to compute the electricity bill for a household."
   ]
  },
  {
   "cell_type": "markdown",
   "id": "8d0a594d",
   "metadata": {},
   "source": [
    "- The per-unit charges in rupees are as follows: For the first 100 units, the user will be charged Rs. 4.5 per\n",
    "unit, for the next 100 units, the user will be charged Rs. 6 per unit, and for the next 100 units, the user will\n",
    "be charged Rs. 10 per unit, After 300 units and above the user will be charged Rs. 20 per unit."
   ]
  },
  {
   "cell_type": "markdown",
   "id": "0d402479",
   "metadata": {},
   "source": [
    "- You are required to take the units of electricity consumed in a month from the user as input."
   ]
  },
  {
   "cell_type": "markdown",
   "id": "03e58a90",
   "metadata": {},
   "source": [
    "- Your program must pass this test case: when the unit of electricity consumed by the user in a month is\n",
    "310, the total electricity bill should be 2250."
   ]
  },
  {
   "cell_type": "code",
   "execution_count": 6,
   "id": "2526a1f2",
   "metadata": {},
   "outputs": [
    {
     "name": "stdout",
     "output_type": "stream",
     "text": [
      "Enter the units of electricity consumed in a month:310\n",
      "Total Electricity Bill: Rs. 2250.0\n"
     ]
    }
   ],
   "source": [
    "units = int(input(\"Enter the units of electricity consumed in a month:\"))\n",
    "\n",
    "total_bill = 0 # Here total_bill is a variable which will store the total electricity bill.\n",
    "\n",
    "if units <= 100:\n",
    "    total_bill = units * 4.5\n",
    "    \n",
    "elif units <= 200:\n",
    "    total_bill = 100 * 4.5 + (units - 100) * 6\n",
    "    \n",
    "elif units <= 300:\n",
    "    total_bill = 100 * 4.5 + 100 * 6 + (units - 200) * 10\n",
    "    \n",
    "else:\n",
    "    total_bill = 100 * 4.5 + 100 * 6 + 100 * 10 + (units - 300) * 20\n",
    "    \n",
    "print(\"Total Electricity Bill: Rs.\", total_bill)"
   ]
  },
  {
   "cell_type": "markdown",
   "id": "26589a04",
   "metadata": {},
   "source": [
    "# Q(4). Create a list of numbers from 1 to 100. Use for loop and while loop to calculate the cube of each number and if the cube of that number is divisible by 4 or 5 then append that number in a list and print that list."
   ]
  },
  {
   "cell_type": "markdown",
   "id": "c4e1788a",
   "metadata": {},
   "source": [
    "Ans.:- Using for loop and while loop to calculate the cube of each number and if the cube of that number is divisible by 4 or 5 then append that number in a list and print that list:"
   ]
  },
  {
   "cell_type": "markdown",
   "id": "9e526a7d",
   "metadata": {},
   "source": [
    "# (1). Using For Loop :"
   ]
  },
  {
   "cell_type": "code",
   "execution_count": 7,
   "id": "4bfac887",
   "metadata": {},
   "outputs": [
    {
     "name": "stdout",
     "output_type": "stream",
     "text": [
      "[2, 4, 5, 6, 8, 10, 12, 14, 15, 16, 18, 20, 22, 24, 25, 26, 28, 30, 32, 34, 35, 36, 38, 40, 42, 44, 45, 46, 48, 50, 52, 54, 55, 56, 58, 60, 62, 64, 65, 66, 68, 70, 72, 74, 75, 76, 78, 80, 82, 84, 85, 86, 88, 90, 92, 94, 95, 96, 98, 100]\n"
     ]
    }
   ],
   "source": [
    "list1 = []\n",
    "\n",
    "for num in range(1, 101):\n",
    "    cube = num ** 3\n",
    "    if cube % 4 == 0 or cube % 5 == 0:\n",
    "        list1.append(num)\n",
    "print(list1)"
   ]
  },
  {
   "cell_type": "markdown",
   "id": "ab77cb32",
   "metadata": {},
   "source": [
    "# (2). Using While Loop :"
   ]
  },
  {
   "cell_type": "code",
   "execution_count": 8,
   "id": "284ae807",
   "metadata": {},
   "outputs": [
    {
     "name": "stdout",
     "output_type": "stream",
     "text": [
      "[2, 4, 5, 6, 8, 10, 12, 14, 15, 16, 18, 20, 22, 24, 25, 26, 28, 30, 32, 34, 35, 36, 38, 40, 42, 44, 45, 46, 48, 50, 52, 54, 55, 56, 58, 60, 62, 64, 65, 66, 68, 70, 72, 74, 75, 76, 78, 80, 82, 84, 85, 86, 88, 90, 92, 94, 95, 96, 98, 100]\n"
     ]
    }
   ],
   "source": [
    "list2 = []\n",
    "num = 1\n",
    "\n",
    "while num <= 100:\n",
    "    cube = num ** 3\n",
    "    if cube % 4 == 0 or cube % 5 == 0:\n",
    "        list2.append(num)\n",
    "    num = num + 1\n",
    "print(list2)"
   ]
  },
  {
   "cell_type": "markdown",
   "id": "289ae980",
   "metadata": {},
   "source": [
    "# Q(5). Write a program to filter count vowels in the below-given string.\n",
    "\n",
    "# string = \"I want to become a data scientist\"\n"
   ]
  },
  {
   "cell_type": "markdown",
   "id": "b8a2cecd",
   "metadata": {},
   "source": [
    "Ans. :- program to filter count vowels in the given string :"
   ]
  },
  {
   "cell_type": "code",
   "execution_count": 9,
   "id": "1a3a714b",
   "metadata": {},
   "outputs": [
    {
     "name": "stdout",
     "output_type": "stream",
     "text": [
      "Number of Vowels 12\n"
     ]
    }
   ],
   "source": [
    "string = \"I want to become a data scientist\"\n",
    "vowels = \"aeiouAEIOU\"\n",
    "vowel_count = 0\n",
    "\n",
    "for char in string:\n",
    "    if char in vowels:\n",
    "        vowel_count = vowel_count + 1\n",
    "print(\"Number of Vowels\", vowel_count)"
   ]
  }
 ],
 "metadata": {
  "kernelspec": {
   "display_name": "Python 3 (ipykernel)",
   "language": "python",
   "name": "python3"
  },
  "language_info": {
   "codemirror_mode": {
    "name": "ipython",
    "version": 3
   },
   "file_extension": ".py",
   "mimetype": "text/x-python",
   "name": "python",
   "nbconvert_exporter": "python",
   "pygments_lexer": "ipython3",
   "version": "3.10.9"
  }
 },
 "nbformat": 4,
 "nbformat_minor": 5
}
